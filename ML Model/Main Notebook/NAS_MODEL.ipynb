{
 "cells": [
  {
   "cell_type": "markdown",
   "metadata": {},
   "source": [
    "# Neural Article Search (NAS) Project\n",
    "\n",
    "Introduction: The Neural Article Search (NAS) project is designed to implement an intelligent search system that processes user queries and predicts the most relevant categories and articles based on the input. Using deep learning models and natural language processing (NLP) techniques, NAS aims to deliver an efficient search experience by analyzing and categorizing queries.\n",
    "\n",
    "The project utilizes advanced methods such as LSTM (Long Short-Term Memory) neural networks and Sentence-BERT embeddings to process search queries, optimize the matching of search results, and predict relevant article categories. It integrates data preprocessing pipelines with text tokenization, lemmatization, and stopword removal to enhance model performance. With a clear focus on improving user search interaction, NAS applies modern machine learning techniques to a real-world dataset.\n",
    "\n",
    "The project is built in Python, leveraging libraries like TensorFlow, Keras, and spaCy, and demonstrates a full machine learning lifecycle, from preprocessing and model training to evaluation and inference."
   ]
  },
  {
   "cell_type": "markdown",
   "metadata": {},
   "source": [
    "## Importing Libraries:\n",
    "\n",
    "* Necessary libraries for data manipulation, machine learning, NLP, and visualization are imported."
   ]
  },
  {
   "cell_type": "code",
   "execution_count": 2,
   "metadata": {},
   "outputs": [],
   "source": [
    "# Import necessary libraries\n",
    "import pandas as pd\n",
    "import numpy as np\n",
    "import re\n",
    "import matplotlib.pyplot as plt\n",
    "from sklearn.model_selection import train_test_split\n",
    "from sklearn.metrics import accuracy_score\n",
    "from tqdm import tqdm  # Import tqdm in console mode\n",
    "\n",
    "\n",
    "# NLP libraries\n",
    "import spacy\n",
    "\n",
    "from sentence_transformers import SentenceTransformer\n",
    "\n",
    "# Deep learning libraries\n",
    "import tensorflow as tf\n",
    "from keras import layers, models\n",
    "from keras import optimizers,callbacks"
   ]
  },
  {
   "cell_type": "markdown",
   "metadata": {},
   "source": [
    "* This section imports essential libraries for data manipulation (pandas), modeling (tensorflow and SentenceTransformer), NLP (spaCy), and visualization (matplotlib). The re module is used for cleaning text using regular expressions."
   ]
  },
  {
   "cell_type": "markdown",
   "metadata": {},
   "source": [
    "## Loading and Preprocessing the Dataset: \n",
    "\n",
    "* In this step, we load the dataset and perform basic preprocessing. First, we remove unnecessary columns (search_date, search_traffic) and clean the text data by converting it to lowercase, stripping white spaces, and removing special characters. This ensures uniformity and better handling of text during the training process."
   ]
  },
  {
   "cell_type": "code",
   "execution_count": 3,
   "metadata": {},
   "outputs": [],
   "source": [
    "# Load the dataset\n",
    "df = pd.DataFrame(pd.read_csv('/Users/hemavoc/Desktop/Projects/NAS project/ML Model/Dataset/Article Search .csv'))\n",
    "df = df.drop(['search_date', 'search_traffic'], axis=1)\n",
    "df_link = df['article_link']\n",
    "df = df.drop_duplicates()  # Remove duplicates\n",
    "df = df.apply(lambda x: x.str.strip() if x.dtype == \"object\" else x)  # Remove whitespaces\n",
    "df = df.apply(lambda x: x.str.lower() if x.dtype == \"object\" else x)  # Convert to lowercase\n",
    "df = df.applymap(lambda x: re.sub(r'[\\xa0]', '', x) if isinstance(x, str) else x)\n",
    "df = df.applymap(lambda x: re.sub(r'[^A-Za-z0-9\\u0900-\\u097F\\s]', '', x) if isinstance(x, str) else x)  # Remove special characters\n",
    "df['article_link'] = df_link\n",
    "df['preprocessed_text1'] = df['search_query']+' '+df['article_snippet'] +' '+ df['article_title']"
   ]
  },
  {
   "cell_type": "markdown",
   "metadata": {},
   "source": [
    "* The dataset is loaded and cleaned by removing unnecessary columns, stripping white spaces, converting text to lowercase, and removing special characters. A new feature preprocessed_text1 is created by concatenating several relevant columns."
   ]
  },
  {
   "cell_type": "markdown",
   "metadata": {},
   "source": [
    "## Text Preprocessing with spaCy:\n",
    "\n",
    "* Text data often contains stopwords, punctuation, and non-essential words that do not contribute to the model. Here, we use spaCy to remove stopwords, perform lemmatization (converting words to their base form), and create a cleaner version of the text for model training."
   ]
  },
  {
   "cell_type": "code",
   "execution_count": 4,
   "metadata": {},
   "outputs": [],
   "source": [
    "nlp = spacy.load('en_core_web_sm')\n",
    "\n",
    "# Function to remove stopwords and apply lemmatization\n",
    "def preprocess_text(text):\n",
    "    doc = nlp(text.lower())  # Apply tokenization and lowercasing\n",
    "    # Filter out stopwords and punctuation, and lemmatize the remaining tokens\n",
    "    tokens = [token.lemma_ for token in set(doc) if not token.is_stop and not token.is_punct]\n",
    "    tokens=list(set(tokens))\n",
    "    return tokens\n",
    "# Apply the preprocessing function to the preprocessed text\n",
    "df['preprocessed_text2'] = df['preprocessed_text1'].apply(preprocess_text)\n",
    "# Ensure that preprocessed_text2 contains single strings (not lists or tuples)\n",
    "df['preprocessed_text2'] = df['preprocessed_text2'].apply(lambda x: ' '.join(x) if isinstance(x, list) else str(x))"
   ]
  },
  {
   "cell_type": "markdown",
   "metadata": {},
   "source": [
    "* This function uses spaCy to tokenize and lemmatize the text, removing stopwords and punctuation. It produces a clean version of the text in the column preprocessed_text2."
   ]
  },
  {
   "cell_type": "markdown",
   "metadata": {},
   "source": [
    "## Embedding Generation Using Sentence-BERT: \n",
    "\n",
    "* Once the text has been preprocessed, we generate embeddings using Sentence-BERT. These embeddings are dense vector representations of text that capture semantic meaning, which helps the model understand the relationships between different words and sentences."
   ]
  },
  {
   "cell_type": "code",
   "execution_count": 6,
   "metadata": {},
   "outputs": [
    {
     "data": {
      "application/vnd.jupyter.widget-view+json": {
       "model_id": "c9bd126a3be74455bb72dd850e8b4754",
       "version_major": 2,
       "version_minor": 0
      },
      "text/plain": [
       "Batches:   0%|          | 0/981 [00:00<?, ?it/s]"
      ]
     },
     "metadata": {},
     "output_type": "display_data"
    }
   ],
   "source": [
    "# Load the Sentence-BERT model (lightweight and fast)\n",
    "sentence_model = SentenceTransformer('paraphrase-MiniLM-L6-v2')\n",
    "\n",
    "# Generate embeddings using Sentence-BERT (much faster)\n",
    "X = sentence_model.encode(df['preprocessed_text2'].tolist(), show_progress_bar=True)\n",
    "\n",
    "# Prepare labels (search queries)\n",
    "y = df['search_query'].factorize()[0]"
   ]
  },
  {
   "cell_type": "markdown",
   "metadata": {},
   "source": [
    "* Sentence-BERT is used to generate dense vector embeddings for the preprocessed text. These embeddings will serve as input features for the LSTM model. The target labels (y) are encoded from the search_query column."
   ]
  },
  {
   "cell_type": "markdown",
   "metadata": {},
   "source": [
    "### Reshaping Data and Splitting into Training, Validation, and Test Sets: \n",
    "\n",
    "* After generating the embeddings, we reshape the input data to make it compatible with the LSTM model. We then split the data into training, validation, and test sets for model training and evaluation."
   ]
  },
  {
   "cell_type": "code",
   "execution_count": 7,
   "metadata": {},
   "outputs": [],
   "source": [
    "\n",
    "# Reshape input for the model\n",
    "X = X.reshape(X.shape[0], 1, X.shape[1])  # (samples, timesteps, features)\n",
    "\n",
    "# Split data into training, validation, and test sets\n",
    "X_train, X_temp, y_train, y_temp = train_test_split(X, y, test_size=0.2, random_state=42)\n",
    "X_val, X_test, y_val, y_test = train_test_split(X_temp, y_temp, test_size=0.5, random_state=42)\n"
   ]
  },
  {
   "cell_type": "markdown",
   "metadata": {},
   "source": [
    "* The embeddings (X) are reshaped to the required input format for the LSTM model. The dataset is then split into training, validation, and test sets."
   ]
  },
  {
   "cell_type": "markdown",
   "metadata": {},
   "source": [
    "## Building the LSTM Model: \n",
    "\n",
    "* The LSTM model is built in this section. We use a sequential model with two LSTM layers to capture sequential relationships in the text embeddings. Dropout layers are added to prevent overfitting, and the final output layer uses a softmax activation function to predict the category of the search query."
   ]
  },
  {
   "cell_type": "code",
   "execution_count": 8,
   "metadata": {},
   "outputs": [
    {
     "data": {
      "text/html": [
       "<pre style=\"white-space:pre;overflow-x:auto;line-height:normal;font-family:Menlo,'DejaVu Sans Mono',consolas,'Courier New',monospace\"><span style=\"font-weight: bold\">Model: \"sequential\"</span>\n",
       "</pre>\n"
      ],
      "text/plain": [
       "\u001b[1mModel: \"sequential\"\u001b[0m\n"
      ]
     },
     "metadata": {},
     "output_type": "display_data"
    },
    {
     "data": {
      "text/html": [
       "<pre style=\"white-space:pre;overflow-x:auto;line-height:normal;font-family:Menlo,'DejaVu Sans Mono',consolas,'Courier New',monospace\">┏━━━━━━━━━━━━━━━━━━━━━━━━━━━━━━━━━┳━━━━━━━━━━━━━━━━━━━━━━━━┳━━━━━━━━━━━━━━━┓\n",
       "┃<span style=\"font-weight: bold\"> Layer (type)                    </span>┃<span style=\"font-weight: bold\"> Output Shape           </span>┃<span style=\"font-weight: bold\">       Param # </span>┃\n",
       "┡━━━━━━━━━━━━━━━━━━━━━━━━━━━━━━━━━╇━━━━━━━━━━━━━━━━━━━━━━━━╇━━━━━━━━━━━━━━━┩\n",
       "│ lstm (<span style=\"color: #0087ff; text-decoration-color: #0087ff\">LSTM</span>)                     │ (<span style=\"color: #00d7ff; text-decoration-color: #00d7ff\">None</span>, <span style=\"color: #00af00; text-decoration-color: #00af00\">1</span>, <span style=\"color: #00af00; text-decoration-color: #00af00\">128</span>)         │       <span style=\"color: #00af00; text-decoration-color: #00af00\">262,656</span> │\n",
       "├─────────────────────────────────┼────────────────────────┼───────────────┤\n",
       "│ dropout (<span style=\"color: #0087ff; text-decoration-color: #0087ff\">Dropout</span>)               │ (<span style=\"color: #00d7ff; text-decoration-color: #00d7ff\">None</span>, <span style=\"color: #00af00; text-decoration-color: #00af00\">1</span>, <span style=\"color: #00af00; text-decoration-color: #00af00\">128</span>)         │             <span style=\"color: #00af00; text-decoration-color: #00af00\">0</span> │\n",
       "├─────────────────────────────────┼────────────────────────┼───────────────┤\n",
       "│ lstm_1 (<span style=\"color: #0087ff; text-decoration-color: #0087ff\">LSTM</span>)                   │ (<span style=\"color: #00d7ff; text-decoration-color: #00d7ff\">None</span>, <span style=\"color: #00af00; text-decoration-color: #00af00\">64</span>)             │        <span style=\"color: #00af00; text-decoration-color: #00af00\">49,408</span> │\n",
       "├─────────────────────────────────┼────────────────────────┼───────────────┤\n",
       "│ dropout_1 (<span style=\"color: #0087ff; text-decoration-color: #0087ff\">Dropout</span>)             │ (<span style=\"color: #00d7ff; text-decoration-color: #00d7ff\">None</span>, <span style=\"color: #00af00; text-decoration-color: #00af00\">64</span>)             │             <span style=\"color: #00af00; text-decoration-color: #00af00\">0</span> │\n",
       "├─────────────────────────────────┼────────────────────────┼───────────────┤\n",
       "│ dense (<span style=\"color: #0087ff; text-decoration-color: #0087ff\">Dense</span>)                   │ (<span style=\"color: #00d7ff; text-decoration-color: #00d7ff\">None</span>, <span style=\"color: #00af00; text-decoration-color: #00af00\">1544</span>)           │       <span style=\"color: #00af00; text-decoration-color: #00af00\">100,360</span> │\n",
       "└─────────────────────────────────┴────────────────────────┴───────────────┘\n",
       "</pre>\n"
      ],
      "text/plain": [
       "┏━━━━━━━━━━━━━━━━━━━━━━━━━━━━━━━━━┳━━━━━━━━━━━━━━━━━━━━━━━━┳━━━━━━━━━━━━━━━┓\n",
       "┃\u001b[1m \u001b[0m\u001b[1mLayer (type)                   \u001b[0m\u001b[1m \u001b[0m┃\u001b[1m \u001b[0m\u001b[1mOutput Shape          \u001b[0m\u001b[1m \u001b[0m┃\u001b[1m \u001b[0m\u001b[1m      Param #\u001b[0m\u001b[1m \u001b[0m┃\n",
       "┡━━━━━━━━━━━━━━━━━━━━━━━━━━━━━━━━━╇━━━━━━━━━━━━━━━━━━━━━━━━╇━━━━━━━━━━━━━━━┩\n",
       "│ lstm (\u001b[38;5;33mLSTM\u001b[0m)                     │ (\u001b[38;5;45mNone\u001b[0m, \u001b[38;5;34m1\u001b[0m, \u001b[38;5;34m128\u001b[0m)         │       \u001b[38;5;34m262,656\u001b[0m │\n",
       "├─────────────────────────────────┼────────────────────────┼───────────────┤\n",
       "│ dropout (\u001b[38;5;33mDropout\u001b[0m)               │ (\u001b[38;5;45mNone\u001b[0m, \u001b[38;5;34m1\u001b[0m, \u001b[38;5;34m128\u001b[0m)         │             \u001b[38;5;34m0\u001b[0m │\n",
       "├─────────────────────────────────┼────────────────────────┼───────────────┤\n",
       "│ lstm_1 (\u001b[38;5;33mLSTM\u001b[0m)                   │ (\u001b[38;5;45mNone\u001b[0m, \u001b[38;5;34m64\u001b[0m)             │        \u001b[38;5;34m49,408\u001b[0m │\n",
       "├─────────────────────────────────┼────────────────────────┼───────────────┤\n",
       "│ dropout_1 (\u001b[38;5;33mDropout\u001b[0m)             │ (\u001b[38;5;45mNone\u001b[0m, \u001b[38;5;34m64\u001b[0m)             │             \u001b[38;5;34m0\u001b[0m │\n",
       "├─────────────────────────────────┼────────────────────────┼───────────────┤\n",
       "│ dense (\u001b[38;5;33mDense\u001b[0m)                   │ (\u001b[38;5;45mNone\u001b[0m, \u001b[38;5;34m1544\u001b[0m)           │       \u001b[38;5;34m100,360\u001b[0m │\n",
       "└─────────────────────────────────┴────────────────────────┴───────────────┘\n"
      ]
     },
     "metadata": {},
     "output_type": "display_data"
    },
    {
     "data": {
      "text/html": [
       "<pre style=\"white-space:pre;overflow-x:auto;line-height:normal;font-family:Menlo,'DejaVu Sans Mono',consolas,'Courier New',monospace\"><span style=\"font-weight: bold\"> Total params: </span><span style=\"color: #00af00; text-decoration-color: #00af00\">412,424</span> (1.57 MB)\n",
       "</pre>\n"
      ],
      "text/plain": [
       "\u001b[1m Total params: \u001b[0m\u001b[38;5;34m412,424\u001b[0m (1.57 MB)\n"
      ]
     },
     "metadata": {},
     "output_type": "display_data"
    },
    {
     "data": {
      "text/html": [
       "<pre style=\"white-space:pre;overflow-x:auto;line-height:normal;font-family:Menlo,'DejaVu Sans Mono',consolas,'Courier New',monospace\"><span style=\"font-weight: bold\"> Trainable params: </span><span style=\"color: #00af00; text-decoration-color: #00af00\">412,424</span> (1.57 MB)\n",
       "</pre>\n"
      ],
      "text/plain": [
       "\u001b[1m Trainable params: \u001b[0m\u001b[38;5;34m412,424\u001b[0m (1.57 MB)\n"
      ]
     },
     "metadata": {},
     "output_type": "display_data"
    },
    {
     "data": {
      "text/html": [
       "<pre style=\"white-space:pre;overflow-x:auto;line-height:normal;font-family:Menlo,'DejaVu Sans Mono',consolas,'Courier New',monospace\"><span style=\"font-weight: bold\"> Non-trainable params: </span><span style=\"color: #00af00; text-decoration-color: #00af00\">0</span> (0.00 B)\n",
       "</pre>\n"
      ],
      "text/plain": [
       "\u001b[1m Non-trainable params: \u001b[0m\u001b[38;5;34m0\u001b[0m (0.00 B)\n"
      ]
     },
     "metadata": {},
     "output_type": "display_data"
    }
   ],
   "source": [
    "# Define the model\n",
    "model = models.Sequential()\n",
    "\n",
    "# Use Input layer to define the input shape\n",
    "model.add(layers.Input(shape=(X_train.shape[1], X_train.shape[2])))  # Define input shape here\n",
    "model.add(layers.LSTM(128, return_sequences=True))\n",
    "model.add(layers.Dropout(0.3))  # Dropout layer to reduce overfitting\n",
    "\n",
    "model.add(layers.LSTM(64))\n",
    "model.add(layers.Dropout(0.3))  # Dropout to reduce overfitting\n",
    "\n",
    "# Output layer for category prediction\n",
    "model.add(layers.Dense(len(df['search_query'].unique()), activation='softmax'))\n",
    "\n",
    "# Specify the learning rate\n",
    "learning_rate = 0.001  # You can adjust this value\n",
    "optimizer = optimizers.Adam(learning_rate=learning_rate)\n",
    "\n",
    "# Compile the model\n",
    "model.compile(optimizer=optimizer, loss='sparse_categorical_crossentropy', metrics=['accuracy'])\n",
    "\n",
    "# Print model summary\n",
    "model.summary()\n"
   ]
  },
  {
   "cell_type": "markdown",
   "metadata": {},
   "source": [
    "* A sequential LSTM model is built with two LSTM layers, each followed by Dropout to prevent overfitting. The output layer uses softmax activation to predict the search query category. Early stopping is implemented to stop training when validation performance stops improving."
   ]
  },
  {
   "cell_type": "markdown",
   "metadata": {},
   "source": [
    "## Training the Model with Early Stopping: \n",
    "\n",
    "* Early stopping is used to prevent overfitting by stopping training when the validation loss stops improving. The model is trained using the training data, and validation data is used to monitor the performance during training.\n",
    "\n"
   ]
  },
  {
   "cell_type": "code",
   "execution_count": 9,
   "metadata": {},
   "outputs": [],
   "source": [
    "# Add Early Stopping\n",
    "early_stopping = callbacks.EarlyStopping(monitor='val_loss', patience=3, restore_best_weights=True)"
   ]
  },
  {
   "cell_type": "code",
   "execution_count": 10,
   "metadata": {},
   "outputs": [
    {
     "name": "stdout",
     "output_type": "stream",
     "text": [
      "Epoch 1/45\n",
      "\u001b[1m1569/1569\u001b[0m \u001b[32m━━━━━━━━━━━━━━━━━━━━\u001b[0m\u001b[37m\u001b[0m \u001b[1m9s\u001b[0m 5ms/step - accuracy: 0.0601 - loss: 6.2852 - val_accuracy: 0.2221 - val_loss: 4.5140\n",
      "Epoch 2/45\n",
      "\u001b[1m1569/1569\u001b[0m \u001b[32m━━━━━━━━━━━━━━━━━━━━\u001b[0m\u001b[37m\u001b[0m \u001b[1m7s\u001b[0m 4ms/step - accuracy: 0.2488 - loss: 4.2871 - val_accuracy: 0.3681 - val_loss: 3.5359\n",
      "Epoch 3/45\n",
      "\u001b[1m1569/1569\u001b[0m \u001b[32m━━━━━━━━━━━━━━━━━━━━\u001b[0m\u001b[37m\u001b[0m \u001b[1m6s\u001b[0m 4ms/step - accuracy: 0.3532 - loss: 3.4507 - val_accuracy: 0.4573 - val_loss: 2.9835\n",
      "Epoch 4/45\n",
      "\u001b[1m1569/1569\u001b[0m \u001b[32m━━━━━━━━━━━━━━━━━━━━\u001b[0m\u001b[37m\u001b[0m \u001b[1m7s\u001b[0m 4ms/step - accuracy: 0.4314 - loss: 2.9508 - val_accuracy: 0.5175 - val_loss: 2.5984\n",
      "Epoch 5/45\n",
      "\u001b[1m1569/1569\u001b[0m \u001b[32m━━━━━━━━━━━━━━━━━━━━\u001b[0m\u001b[37m\u001b[0m \u001b[1m6s\u001b[0m 4ms/step - accuracy: 0.4885 - loss: 2.5887 - val_accuracy: 0.5574 - val_loss: 2.3334\n",
      "Epoch 6/45\n",
      "\u001b[1m1569/1569\u001b[0m \u001b[32m━━━━━━━━━━━━━━━━━━━━\u001b[0m\u001b[37m\u001b[0m \u001b[1m7s\u001b[0m 4ms/step - accuracy: 0.5370 - loss: 2.2925 - val_accuracy: 0.5908 - val_loss: 2.1066\n",
      "Epoch 7/45\n",
      "\u001b[1m1569/1569\u001b[0m \u001b[32m━━━━━━━━━━━━━━━━━━━━\u001b[0m\u001b[37m\u001b[0m \u001b[1m6s\u001b[0m 4ms/step - accuracy: 0.5639 - loss: 2.0996 - val_accuracy: 0.6112 - val_loss: 1.9595\n",
      "Epoch 8/45\n",
      "\u001b[1m1569/1569\u001b[0m \u001b[32m━━━━━━━━━━━━━━━━━━━━\u001b[0m\u001b[37m\u001b[0m \u001b[1m8s\u001b[0m 5ms/step - accuracy: 0.5933 - loss: 1.9210 - val_accuracy: 0.6259 - val_loss: 1.8253\n",
      "Epoch 9/45\n",
      "\u001b[1m1569/1569\u001b[0m \u001b[32m━━━━━━━━━━━━━━━━━━━━\u001b[0m\u001b[37m\u001b[0m \u001b[1m7s\u001b[0m 4ms/step - accuracy: 0.6268 - loss: 1.7482 - val_accuracy: 0.6444 - val_loss: 1.7258\n",
      "Epoch 10/45\n",
      "\u001b[1m1569/1569\u001b[0m \u001b[32m━━━━━━━━━━━━━━━━━━━━\u001b[0m\u001b[37m\u001b[0m \u001b[1m7s\u001b[0m 4ms/step - accuracy: 0.6471 - loss: 1.6263 - val_accuracy: 0.6555 - val_loss: 1.6091\n",
      "Epoch 11/45\n",
      "\u001b[1m1569/1569\u001b[0m \u001b[32m━━━━━━━━━━━━━━━━━━━━\u001b[0m\u001b[37m\u001b[0m \u001b[1m7s\u001b[0m 4ms/step - accuracy: 0.6644 - loss: 1.5362 - val_accuracy: 0.6718 - val_loss: 1.5471\n",
      "Epoch 12/45\n",
      "\u001b[1m1569/1569\u001b[0m \u001b[32m━━━━━━━━━━━━━━━━━━━━\u001b[0m\u001b[37m\u001b[0m \u001b[1m6s\u001b[0m 4ms/step - accuracy: 0.6786 - loss: 1.4394 - val_accuracy: 0.6820 - val_loss: 1.4861\n",
      "Epoch 13/45\n",
      "\u001b[1m1569/1569\u001b[0m \u001b[32m━━━━━━━━━━━━━━━━━━━━\u001b[0m\u001b[37m\u001b[0m \u001b[1m7s\u001b[0m 4ms/step - accuracy: 0.6922 - loss: 1.3675 - val_accuracy: 0.6902 - val_loss: 1.4286\n",
      "Epoch 14/45\n",
      "\u001b[1m1569/1569\u001b[0m \u001b[32m━━━━━━━━━━━━━━━━━━━━\u001b[0m\u001b[37m\u001b[0m \u001b[1m7s\u001b[0m 4ms/step - accuracy: 0.6988 - loss: 1.3092 - val_accuracy: 0.6960 - val_loss: 1.3742\n",
      "Epoch 15/45\n",
      "\u001b[1m1569/1569\u001b[0m \u001b[32m━━━━━━━━━━━━━━━━━━━━\u001b[0m\u001b[37m\u001b[0m \u001b[1m7s\u001b[0m 4ms/step - accuracy: 0.7195 - loss: 1.2279 - val_accuracy: 0.7106 - val_loss: 1.3424\n",
      "Epoch 16/45\n",
      "\u001b[1m1569/1569\u001b[0m \u001b[32m━━━━━━━━━━━━━━━━━━━━\u001b[0m\u001b[37m\u001b[0m \u001b[1m7s\u001b[0m 4ms/step - accuracy: 0.7203 - loss: 1.1751 - val_accuracy: 0.7180 - val_loss: 1.3115\n",
      "Epoch 17/45\n",
      "\u001b[1m1569/1569\u001b[0m \u001b[32m━━━━━━━━━━━━━━━━━━━━\u001b[0m\u001b[37m\u001b[0m \u001b[1m6s\u001b[0m 4ms/step - accuracy: 0.7380 - loss: 1.1204 - val_accuracy: 0.7224 - val_loss: 1.2756\n",
      "Epoch 18/45\n",
      "\u001b[1m1569/1569\u001b[0m \u001b[32m━━━━━━━━━━━━━━━━━━━━\u001b[0m\u001b[37m\u001b[0m \u001b[1m7s\u001b[0m 4ms/step - accuracy: 0.7456 - loss: 1.0727 - val_accuracy: 0.7240 - val_loss: 1.2646\n",
      "Epoch 19/45\n",
      "\u001b[1m1569/1569\u001b[0m \u001b[32m━━━━━━━━━━━━━━━━━━━━\u001b[0m\u001b[37m\u001b[0m \u001b[1m9s\u001b[0m 6ms/step - accuracy: 0.7510 - loss: 1.0467 - val_accuracy: 0.7298 - val_loss: 1.2385\n",
      "Epoch 20/45\n",
      "\u001b[1m1569/1569\u001b[0m \u001b[32m━━━━━━━━━━━━━━━━━━━━\u001b[0m\u001b[37m\u001b[0m \u001b[1m7s\u001b[0m 4ms/step - accuracy: 0.7673 - loss: 0.9870 - val_accuracy: 0.7275 - val_loss: 1.2291\n",
      "Epoch 21/45\n",
      "\u001b[1m1569/1569\u001b[0m \u001b[32m━━━━━━━━━━━━━━━━━━━━\u001b[0m\u001b[37m\u001b[0m \u001b[1m7s\u001b[0m 4ms/step - accuracy: 0.7634 - loss: 0.9830 - val_accuracy: 0.7320 - val_loss: 1.2156\n",
      "Epoch 22/45\n",
      "\u001b[1m1569/1569\u001b[0m \u001b[32m━━━━━━━━━━━━━━━━━━━━\u001b[0m\u001b[37m\u001b[0m \u001b[1m7s\u001b[0m 4ms/step - accuracy: 0.7753 - loss: 0.9264 - val_accuracy: 0.7345 - val_loss: 1.2097\n",
      "Epoch 23/45\n",
      "\u001b[1m1569/1569\u001b[0m \u001b[32m━━━━━━━━━━━━━━━━━━━━\u001b[0m\u001b[37m\u001b[0m \u001b[1m6s\u001b[0m 4ms/step - accuracy: 0.7754 - loss: 0.9252 - val_accuracy: 0.7377 - val_loss: 1.1905\n",
      "Epoch 24/45\n",
      "\u001b[1m1569/1569\u001b[0m \u001b[32m━━━━━━━━━━━━━━━━━━━━\u001b[0m\u001b[37m\u001b[0m \u001b[1m6s\u001b[0m 4ms/step - accuracy: 0.7861 - loss: 0.8705 - val_accuracy: 0.7384 - val_loss: 1.1714\n",
      "Epoch 25/45\n",
      "\u001b[1m1569/1569\u001b[0m \u001b[32m━━━━━━━━━━━━━━━━━━━━\u001b[0m\u001b[37m\u001b[0m \u001b[1m7s\u001b[0m 4ms/step - accuracy: 0.7921 - loss: 0.8510 - val_accuracy: 0.7454 - val_loss: 1.1479\n",
      "Epoch 26/45\n",
      "\u001b[1m1569/1569\u001b[0m \u001b[32m━━━━━━━━━━━━━━━━━━━━\u001b[0m\u001b[37m\u001b[0m \u001b[1m7s\u001b[0m 4ms/step - accuracy: 0.7945 - loss: 0.8312 - val_accuracy: 0.7470 - val_loss: 1.1543\n",
      "Epoch 27/45\n",
      "\u001b[1m1569/1569\u001b[0m \u001b[32m━━━━━━━━━━━━━━━━━━━━\u001b[0m\u001b[37m\u001b[0m \u001b[1m7s\u001b[0m 4ms/step - accuracy: 0.7944 - loss: 0.8217 - val_accuracy: 0.7502 - val_loss: 1.1373\n",
      "Epoch 28/45\n",
      "\u001b[1m1569/1569\u001b[0m \u001b[32m━━━━━━━━━━━━━━━━━━━━\u001b[0m\u001b[37m\u001b[0m \u001b[1m7s\u001b[0m 4ms/step - accuracy: 0.8014 - loss: 0.7962 - val_accuracy: 0.7511 - val_loss: 1.1330\n",
      "Epoch 29/45\n",
      "\u001b[1m1569/1569\u001b[0m \u001b[32m━━━━━━━━━━━━━━━━━━━━\u001b[0m\u001b[37m\u001b[0m \u001b[1m7s\u001b[0m 5ms/step - accuracy: 0.8045 - loss: 0.7745 - val_accuracy: 0.7562 - val_loss: 1.1419\n",
      "Epoch 30/45\n",
      "\u001b[1m1569/1569\u001b[0m \u001b[32m━━━━━━━━━━━━━━━━━━━━\u001b[0m\u001b[37m\u001b[0m \u001b[1m8s\u001b[0m 5ms/step - accuracy: 0.8139 - loss: 0.7475 - val_accuracy: 0.7562 - val_loss: 1.1182\n",
      "Epoch 31/45\n",
      "\u001b[1m1569/1569\u001b[0m \u001b[32m━━━━━━━━━━━━━━━━━━━━\u001b[0m\u001b[37m\u001b[0m \u001b[1m7s\u001b[0m 4ms/step - accuracy: 0.8119 - loss: 0.7394 - val_accuracy: 0.7511 - val_loss: 1.1280\n",
      "Epoch 32/45\n",
      "\u001b[1m1569/1569\u001b[0m \u001b[32m━━━━━━━━━━━━━━━━━━━━\u001b[0m\u001b[37m\u001b[0m \u001b[1m8s\u001b[0m 5ms/step - accuracy: 0.8172 - loss: 0.7089 - val_accuracy: 0.7578 - val_loss: 1.1215\n",
      "Epoch 33/45\n",
      "\u001b[1m1569/1569\u001b[0m \u001b[32m━━━━━━━━━━━━━━━━━━━━\u001b[0m\u001b[37m\u001b[0m \u001b[1m7s\u001b[0m 4ms/step - accuracy: 0.8170 - loss: 0.7099 - val_accuracy: 0.7565 - val_loss: 1.1187\n"
     ]
    }
   ],
   "source": [
    "\n",
    "# Fit the model\n",
    "history = model.fit(X_train, y_train, epochs=45, batch_size=16, validation_data=(X_val, y_val),callbacks=early_stopping)\n"
   ]
  },
  {
   "cell_type": "markdown",
   "metadata": {},
   "source": [
    "## Evaluating the Model: \n",
    "\n",
    "* After training the model, we evaluate it on the test set to see how well it generalizes to unseen data. The accuracy score is calculated and printed."
   ]
  },
  {
   "cell_type": "code",
   "execution_count": 11,
   "metadata": {},
   "outputs": [
    {
     "name": "stdout",
     "output_type": "stream",
     "text": [
      "\u001b[1m99/99\u001b[0m \u001b[32m━━━━━━━━━━━━━━━━━━━━\u001b[0m\u001b[37m\u001b[0m \u001b[1m1s\u001b[0m 3ms/step\n",
      "Accuracy: 74.41%\n"
     ]
    }
   ],
   "source": [
    "# Evaluate the model on the test set\n",
    "y_pred_probs = model.predict(X_test)\n",
    "y_pred = np.argmax(y_pred_probs, axis=1)\n",
    "accuracy = accuracy_score(y_test, y_pred)\n",
    "print(f'Accuracy: {accuracy * 100:.2f}%')"
   ]
  },
  {
   "cell_type": "markdown",
   "metadata": {},
   "source": [
    "* The model's performance is evaluated on the test set, with accuracy calculated as a metric."
   ]
  },
  {
   "cell_type": "markdown",
   "metadata": {},
   "source": [
    "## Visualizing Training and Validation Accuracy:\n",
    "\n",
    "* We can plot the accuracy of the model over the training epochs to understand how well it is performing during training and validation."
   ]
  },
  {
   "cell_type": "code",
   "execution_count": 12,
   "metadata": {},
   "outputs": [
    {
     "data": {
      "image/png": "[encoded data removed]",
      "text/plain": [
       "<Figure size 640x480 with 1 Axes>"
      ]
     },
     "metadata": {},
     "output_type": "display_data"
    }
   ],
   "source": [
    "# Plot training and validation accuracy\n",
    "plt.plot(history.history['accuracy'], label='Training Accuracy')\n",
    "plt.plot(history.history['val_accuracy'], label='Validation Accuracy')\n",
    "plt.legend()\n",
    "plt.show()"
   ]
  },
  {
   "cell_type": "markdown",
   "metadata": {},
   "source": [
    "* The training and validation accuracy during the model's training process is visualized to monitor the model's performance over time."
   ]
  },
  {
   "cell_type": "code",
   "execution_count": 13,
   "metadata": {},
   "outputs": [],
   "source": [
    "# Function to preprocess the input query\n",
    "nlp = spacy.load('en_core_web_sm')\n",
    "\n",
    "def preprocess_sample_query(query):\n",
    "    doc = nlp(query.lower())\n",
    "    tokens = [token.lemma_ for token in doc if not token.is_stop and not token.is_punct]\n",
    "    query_embedding = sentence_model.encode([' '.join(tokens)])[0]  # Use the lemmatized query\n",
    "    return query_embedding.reshape(1, 1, -1)  # Reshape for LSTM input\n",
    "\n",
    "# Function to predict category for a given query\n",
    "def predict_category(query):\n",
    "    query_vector = preprocess_sample_query(query)\n",
    "    prediction = model.predict(query_vector)\n",
    "    predicted_category_index = np.argmax(prediction, axis=1)[0]\n",
    "    predicted_category = df['search_query'].unique()[predicted_category_index]\n",
    "    return predicted_category"
   ]
  },
  {
   "cell_type": "markdown",
   "metadata": {},
   "source": [
    "## Preprocessing Sample Queries and Predicting Categories: \n",
    "\n",
    "* This section includes functions for preprocessing a new user query and predicting its category using the trained LSTM model. The query is tokenized and lemmatized, and its embedding is generated before passing it through the LSTM model for prediction."
   ]
  },
  {
   "cell_type": "code",
   "execution_count": 14,
   "metadata": {},
   "outputs": [
    {
     "name": "stdout",
     "output_type": "stream",
     "text": [
      "\u001b[1m1/1\u001b[0m \u001b[32m━━━━━━━━━━━━━━━━━━━━\u001b[0m\u001b[37m\u001b[0m \u001b[1m0s\u001b[0m 20ms/step\n",
      "The predicted category is: adityal1\n"
     ]
    }
   ],
   "source": [
    "# Example usage\n",
    "sample_query = 'aditiyal1 space solar mission'\n",
    "predicted_category = predict_category(sample_query)\n",
    "print(f'The predicted category is: {predicted_category}')"
   ]
  },
  {
   "cell_type": "markdown",
   "metadata": {},
   "source": [
    "## Project Summary:\n",
    "\n",
    "* Model Performance: The Neural Article Search (NAS) system demonstrated a highly effective model for predicting relevant article categories and search results based on user queries. By utilizing Sentence-BERT embeddings and LSTM models, NAS achieved strong predictive performance, efficiently matching user queries with the most relevant articles.\n",
    "\n",
    "* Feature Impact: The text preprocessing techniques, including lemmatization, stopword removal, and the use of Sentence-BERT embeddings, played a crucial role in improving the model’s understanding of user input. These features contributed significantly to accurate categorization and result ranking.\n",
    "\n",
    "* Predictive Accuracy: The NAS model effectively captured relationships between search queries and articles, producing accurate and relevant results. Its ability to classify categories and match articles enhances the search experience, making it practical for real-world applications.\n",
    "\n",
    "* Practical Applications: This model can be applied to content-based search engines, news aggregation platforms, and other systems that require query-based content retrieval. The underlying technology can enhance user experiences in navigating large datasets, providing personalized and relevant recommendations.\n",
    "\n",
    "### Future Improvements:\n",
    "* Fine-tuning Sentence-BERT: Future work can fine-tune Sentence-BERT on domain-specific articles to further enhance the relevance of the search results.\n",
    "\n",
    "* Incorporating User Behavior Data: Adding user interaction data (e.g., click-through rates, feedback) can improve the personalization and relevance of the predictions through adaptive learning.\n",
    "\n",
    "* Exploring Advanced Models: Implementing transformer-based architectures or models like BERT-Large and GPT could capture more sophisticated relationships between queries and content, further improving prediction accuracy.\n",
    "\n",
    "* Scalability and Optimization: Enhancing the scalability of the model to handle larger datasets and real-time queries efficiently, possibly using cloud-based infrastructure, can allow for broader deployment and faster response times.\n",
    "\n",
    "* Multilingual Support: Extending the model to support multilingual queries would broaden its applicability across different languages and regions, making it more versatile.\n",
    "\n",
    "These improvements will allow NAS to evolve into a more comprehensive and adaptive search engine system capable of handling more complex search scenarios and delivering even higher relevance to users."
   ]
  }
 ],
 "metadata": {
  "kernelspec": {
   "display_name": "Python 3",
   "language": "python",
   "name": "python3"
  },
  "language_info": {
   "codemirror_mode": {
    "name": "ipython",
    "version": 3
   },
   "file_extension": ".py",
   "mimetype": "text/x-python",
   "name": "python",
   "nbconvert_exporter": "python",
   "pygments_lexer": "ipython3",
   "version": "3.11.1"
  }
 },
 "nbformat": 4,
 "nbformat_minor": 2
}
